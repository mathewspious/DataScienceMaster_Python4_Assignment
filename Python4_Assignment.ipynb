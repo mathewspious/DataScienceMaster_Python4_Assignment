{
 "cells": [
  {
   "cell_type": "markdown",
   "metadata": {},
   "source": [
    "## Assignment 1"
   ]
  },
  {
   "cell_type": "markdown",
   "metadata": {},
   "source": [
    "### 1.1 Program to find the area of a triangle"
   ]
  },
  {
   "cell_type": "code",
   "execution_count": 2,
   "metadata": {},
   "outputs": [
    {
     "name": "stdout",
     "output_type": "stream",
     "text": [
      "Enter Side a :1\n",
      "Enter Side b :2\n",
      "Enter Side c :3\n",
      "3.0\n"
     ]
    }
   ],
   "source": [
    "\n",
    "# Parent class to get the triangle sides\n",
    "class GetSides:\n",
    "    def __init__(self):\n",
    "        self.side_a=float(input(\"Enter Side a :\"))\n",
    "        self.side_b=float(input(\"Enter Side b :\"))\n",
    "        self.side_c=float(input(\"Enter Side c :\"))\n",
    "    \n",
    "    #Getter methods to read the values\n",
    "    def getSideA(self):\n",
    "        return self.side_a\n",
    "    \n",
    "    def getSideB(self):\n",
    "        return self.side_b\n",
    "    \n",
    "    def getSideC(self):\n",
    "        return self.side_c\n",
    "\n",
    "            \n",
    "#Child class which inherits the GetSides class            \n",
    "class Triangle(GetSides):\n",
    "    def __init__(self):\n",
    "        GetSides.__init__(self)\n",
    "    #Method to calculate the area\n",
    "    def findArea(self):\n",
    "        a= self.getSideA()\n",
    "        b= self.getSideB()\n",
    "        c= self.getSideC()\n",
    "        # calculate the semi-perimeter\n",
    "        s = (a + b + c) / 2\n",
    "        print(s)\n",
    "        area = (s*(s-a)*(s-b)*(s-c)) ** 0.5\n",
    "\n",
    "        \n",
    "t = Triangle()\n",
    "area=t.findArea()"
   ]
  },
  {
   "cell_type": "markdown",
   "metadata": {},
   "source": [
    "### 1.2 Function to return the list of words longer that n"
   ]
  },
  {
   "cell_type": "code",
   "execution_count": 13,
   "metadata": {},
   "outputs": [
    {
     "data": {
      "text/plain": [
       "['Pakistan', 'Canada', 'America', 'Mexica']"
      ]
     },
     "execution_count": 13,
     "metadata": {},
     "output_type": "execute_result"
    }
   ],
   "source": [
    "#Function to return the list of longest words\n",
    "def filter_long_words(word_list,threshold):\n",
    "    for word in word_list:\n",
    "        #Condition to check the length and yield words with length greater than threshold\n",
    "        if threshold < len(word):\n",
    "            yield word\n",
    "            \n",
    "list(filter_long_words(['India', 'Pakistan', 'China', 'Canada', 'America', 'Mexica'],5))"
   ]
  },
  {
   "cell_type": "markdown",
   "metadata": {},
   "source": [
    "## Assignment 2"
   ]
  },
  {
   "cell_type": "markdown",
   "metadata": {},
   "source": [
    "### 2.1 Program to create a list of integers corresponding to the word length"
   ]
  },
  {
   "cell_type": "code",
   "execution_count": 15,
   "metadata": {},
   "outputs": [
    {
     "data": {
      "text/plain": [
       "[5, 8, 5, 6, 7, 6]"
      ]
     },
     "execution_count": 15,
     "metadata": {},
     "output_type": "execute_result"
    }
   ],
   "source": [
    "#Function to return the length of elements\n",
    "def get_length(word_list):\n",
    "    #Loop to yield the word length\n",
    "    for word in word_list:\n",
    "        yield len(word)\n",
    "        \n",
    "list(get_length(['India', 'Pakistan', 'China', 'Canada', 'America', 'Mexica']))"
   ]
  },
  {
   "cell_type": "markdown",
   "metadata": {},
   "source": [
    "### 2.2 Program to check is a char is vowel"
   ]
  },
  {
   "cell_type": "code",
   "execution_count": 22,
   "metadata": {},
   "outputs": [
    {
     "name": "stdout",
     "output_type": "stream",
     "text": [
      "Enter the character:u\n",
      "True\n"
     ]
    }
   ],
   "source": [
    "# Reading user input\n",
    "char = input(\"Enter the character:\")\n",
    "# Declare vowel list\n",
    "vowels=['a','e','i','o','u']\n",
    "#Checking id the char is a vowel\n",
    "if char in vowels:\n",
    "    print(\"True\")\n",
    "else:\n",
    "    print(\"False\")"
   ]
  }
 ],
 "metadata": {
  "kernelspec": {
   "display_name": "Python 3",
   "language": "python",
   "name": "python3"
  },
  "language_info": {
   "codemirror_mode": {
    "name": "ipython",
    "version": 3
   },
   "file_extension": ".py",
   "mimetype": "text/x-python",
   "name": "python",
   "nbconvert_exporter": "python",
   "pygments_lexer": "ipython3",
   "version": "3.6.5"
  }
 },
 "nbformat": 4,
 "nbformat_minor": 2
}
